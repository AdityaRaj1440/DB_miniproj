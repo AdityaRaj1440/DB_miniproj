{
 "cells": [
  {
   "cell_type": "code",
   "execution_count": 3,
   "metadata": {},
   "outputs": [],
   "source": [
    "import datetime"
   ]
  },
  {
   "cell_type": "code",
   "execution_count": 25,
   "metadata": {},
   "outputs": [
    {
     "name": "stdout",
     "output_type": "stream",
     "text": [
      "21.59429223744292 189166.0 11349960.0 680997600.0\n"
     ]
    }
   ],
   "source": [
    "start= datetime.date(2000, 6, 22)\n",
    "end= start.today()\n",
    "\n",
    "age= end.year-start.year  +   (end.month-start.month)/12 + (end.day-start.day)/365\n",
    "\n",
    "days= age*365\n",
    "hrs= days*24\n",
    "min= hrs*60\n",
    "sec= min*60\n",
    "print(age, hrs, min, sec)"
   ]
  }
 ],
 "metadata": {
  "interpreter": {
   "hash": "202c6e906f27e8ddc05a48ba20a9e35ca3e231d4a41e6d3755a6d9efcf82fda6"
  },
  "kernelspec": {
   "display_name": "Python 3.10.1 64-bit",
   "language": "python",
   "name": "python3"
  },
  "language_info": {
   "codemirror_mode": {
    "name": "ipython",
    "version": 3
   },
   "file_extension": ".py",
   "mimetype": "text/x-python",
   "name": "python",
   "nbconvert_exporter": "python",
   "pygments_lexer": "ipython3",
   "version": "3.10.1"
  },
  "orig_nbformat": 4
 },
 "nbformat": 4,
 "nbformat_minor": 2
}
